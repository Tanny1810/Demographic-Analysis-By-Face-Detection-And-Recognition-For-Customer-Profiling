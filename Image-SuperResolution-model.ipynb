{
 "cells": [
  {
   "cell_type": "code",
   "execution_count": 5,
   "id": "c93ad750",
   "metadata": {
    "ExecuteTime": {
     "end_time": "2023-03-07T10:31:31.163820Z",
     "start_time": "2023-03-07T10:31:31.146140Z"
    }
   },
   "outputs": [],
   "source": [
    "import cv2\n",
    "from cv2 import dnn_superres\n",
    "# from PIL import Image"
   ]
  },
  {
   "cell_type": "code",
   "execution_count": 6,
   "id": "7d2f5c83",
   "metadata": {
    "ExecuteTime": {
     "end_time": "2023-03-07T10:31:31.519140Z",
     "start_time": "2023-03-07T10:31:31.507138Z"
    }
   },
   "outputs": [],
   "source": [
    "image = cv2.imread('UTKFac/55_0_0_20170109011808484.jpg')"
   ]
  },
  {
   "cell_type": "code",
   "execution_count": 8,
   "id": "4d3ead1c",
   "metadata": {
    "ExecuteTime": {
     "end_time": "2023-03-07T10:32:12.532671Z",
     "start_time": "2023-03-07T10:32:12.521668Z"
    }
   },
   "outputs": [],
   "source": [
    "dst = cv2.cvtColor(image, cv2.COLOR_BGR2GRAY)\n",
    "\n",
    "cv2.imwrite(\"./denoise-img.png\", dst)\n",
    "## plot original and denoised image \n",
    "\n",
    "titles = [\"Original Image\", \"Denoised Image\"]\n",
    "\n",
    "images = [image, dst]"
   ]
  },
  {
   "cell_type": "code",
   "execution_count": 4,
   "id": "53494ff8",
   "metadata": {
    "ExecuteTime": {
     "end_time": "2023-03-07T10:31:27.530240Z",
     "start_time": "2023-03-07T10:31:27.512235Z"
    }
   },
   "outputs": [],
   "source": [
    "image = cv2.imread(\"denoise-img.png\")"
   ]
  },
  {
   "cell_type": "code",
   "execution_count": null,
   "id": "c13ebb62",
   "metadata": {
    "ExecuteTime": {
     "start_time": "2023-01-20T20:26:31.268Z"
    }
   },
   "outputs": [],
   "source": [
    "sr = dnn_superres.DnnSuperResImpl_create()\n",
    "path = \"EDSR_x3.pb\"\n",
    "sr.readModel(path)\n",
    "sr.setModel(\"edsr\", 3)\n",
    "result = sr.upsample(image)\n",
    "cv2.imwrite(\"./upscaled.png\", result)"
   ]
  },
  {
   "cell_type": "markdown",
   "id": "5e8a46d8",
   "metadata": {},
   "source": [
    "## Grayscale Images"
   ]
  },
  {
   "cell_type": "code",
   "execution_count": 12,
   "id": "775272d9",
   "metadata": {
    "ExecuteTime": {
     "end_time": "2023-03-07T10:41:26.174892Z",
     "start_time": "2023-03-07T10:40:43.402942Z"
    }
   },
   "outputs": [],
   "source": [
    "import glob\n",
    "import os\n",
    "Data_dir = \"croped_images\"\n",
    "files = glob.glob(os.path.join(Data_dir, \"*.jpg\"))\n",
    "fil = os.listdir(Data_dir)\n",
    "for i in range(len(files)):\n",
    "    image = cv2.imread(files[i])\n",
    "    dst = cv2.cvtColor(image, cv2.COLOR_BGR2GRAY)\n",
    "    cv2.imwrite(\"gray-images/\" + fil[i], dst)"
   ]
  },
  {
   "cell_type": "code",
   "execution_count": null,
   "id": "139be02e",
   "metadata": {},
   "outputs": [],
   "source": []
  }
 ],
 "metadata": {
  "kernelspec": {
   "display_name": "Python 3 (ipykernel)",
   "language": "python",
   "name": "python3"
  },
  "language_info": {
   "codemirror_mode": {
    "name": "ipython",
    "version": 3
   },
   "file_extension": ".py",
   "mimetype": "text/x-python",
   "name": "python",
   "nbconvert_exporter": "python",
   "pygments_lexer": "ipython3",
   "version": "3.9.13"
  },
  "toc": {
   "base_numbering": 1,
   "nav_menu": {},
   "number_sections": true,
   "sideBar": true,
   "skip_h1_title": false,
   "title_cell": "Table of Contents",
   "title_sidebar": "Contents",
   "toc_cell": false,
   "toc_position": {},
   "toc_section_display": true,
   "toc_window_display": false
  },
  "varInspector": {
   "cols": {
    "lenName": 16,
    "lenType": 16,
    "lenVar": 40
   },
   "kernels_config": {
    "python": {
     "delete_cmd_postfix": "",
     "delete_cmd_prefix": "del ",
     "library": "var_list.py",
     "varRefreshCmd": "print(var_dic_list())"
    },
    "r": {
     "delete_cmd_postfix": ") ",
     "delete_cmd_prefix": "rm(",
     "library": "var_list.r",
     "varRefreshCmd": "cat(var_dic_list()) "
    }
   },
   "types_to_exclude": [
    "module",
    "function",
    "builtin_function_or_method",
    "instance",
    "_Feature"
   ],
   "window_display": false
  }
 },
 "nbformat": 4,
 "nbformat_minor": 5
}
