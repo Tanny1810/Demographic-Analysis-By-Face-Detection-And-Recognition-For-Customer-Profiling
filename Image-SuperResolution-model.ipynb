{
 "cells": [
  {
   "cell_type": "code",
   "execution_count": 1,
   "id": "c93ad750",
   "metadata": {
    "ExecuteTime": {
     "end_time": "2023-04-21T05:48:19.194647Z",
     "start_time": "2023-04-21T05:48:19.117983Z"
    }
   },
   "outputs": [],
   "source": [
    "import cv2\n",
    "from cv2 import dnn_superres\n",
    "import glob\n",
    "import os\n",
    "# from PIL import Image"
   ]
  },
  {
   "cell_type": "code",
   "execution_count": 6,
   "id": "7d2f5c83",
   "metadata": {
    "ExecuteTime": {
     "end_time": "2023-03-07T10:31:31.519140Z",
     "start_time": "2023-03-07T10:31:31.507138Z"
    }
   },
   "outputs": [],
   "source": [
    "image = cv2.imread('UTKFac/55_0_0_20170109011808484.jpg')"
   ]
  },
  {
   "cell_type": "code",
   "execution_count": 8,
   "id": "4d3ead1c",
   "metadata": {
    "ExecuteTime": {
     "end_time": "2023-03-07T10:32:12.532671Z",
     "start_time": "2023-03-07T10:32:12.521668Z"
    }
   },
   "outputs": [],
   "source": [
    "dst = cv2.cvtColor(image, cv2.COLOR_BGR2GRAY)\n",
    "\n",
    "cv2.imwrite(\"./denoise-img.png\", dst)\n",
    "## plot original and denoised image \n",
    "\n",
    "titles = [\"Original Image\", \"Denoised Image\"]\n",
    "\n",
    "images = [image, dst]"
   ]
  },
  {
   "cell_type": "code",
   "execution_count": 58,
   "id": "53494ff8",
   "metadata": {
    "ExecuteTime": {
     "end_time": "2023-04-17T14:07:38.301078Z",
     "start_time": "2023-04-17T14:07:38.286075Z"
    }
   },
   "outputs": [],
   "source": [
    "image = cv2.imread(\"gray-images/7_0_0_20161219201514284.jpg\")\n",
    "image = cv2.resize(image,(198,198))"
   ]
  },
  {
   "cell_type": "code",
   "execution_count": 23,
   "id": "c13ebb62",
   "metadata": {
    "ExecuteTime": {
     "end_time": "2023-04-17T13:58:35.914955Z",
     "start_time": "2023-04-17T13:58:29.278557Z"
    }
   },
   "outputs": [
    {
     "data": {
      "text/plain": [
       "True"
      ]
     },
     "execution_count": 23,
     "metadata": {},
     "output_type": "execute_result"
    }
   ],
   "source": [
    "sr = dnn_superres.DnnSuperResImpl_create()\n",
    "path = \"EDSR_x3.pb\"\n",
    "sr.readModel(path)\n",
    "sr.setModel(\"edsr\", 3)\n",
    "result = sr.upsample(image)\n",
    "cv2.imwrite(\"superres-images/\" + \"7_0_0_20161219201514284.jpg\", result)"
   ]
  },
  {
   "cell_type": "markdown",
   "id": "5e8a46d8",
   "metadata": {},
   "source": [
    "## Grayscale Images"
   ]
  },
  {
   "cell_type": "code",
   "execution_count": 3,
   "id": "775272d9",
   "metadata": {
    "ExecuteTime": {
     "end_time": "2023-04-15T07:51:10.660451Z",
     "start_time": "2023-04-15T07:51:10.275362Z"
    }
   },
   "outputs": [],
   "source": [
    "import glob\n",
    "import os\n",
    "Data_dir = \"need-crop\"\n",
    "files = glob.glob(os.path.join(Data_dir, \"*.jpg\"))\n",
    "fil = os.listdir(Data_dir)\n",
    "for i in range(len(files)):\n",
    "    image = cv2.imread(files[i])\n",
    "    dst = cv2.cvtColor(image, cv2.COLOR_BGR2GRAY)\n",
    "    cv2.imwrite(\"need-crop/\" + fil[i], dst)"
   ]
  },
  {
   "cell_type": "code",
   "execution_count": 59,
   "id": "5cfe7fb2",
   "metadata": {
    "ExecuteTime": {
     "end_time": "2023-04-17T14:07:39.985695Z",
     "start_time": "2023-04-17T14:07:39.639643Z"
    }
   },
   "outputs": [
    {
     "data": {
      "text/plain": [
       "True"
      ]
     },
     "execution_count": 59,
     "metadata": {},
     "output_type": "execute_result"
    }
   ],
   "source": [
    "denoise_img = cv2.fastNlMeansDenoisingColored(image,None,10,10,7,21)\n",
    "cv2.imwrite(\"superres-images/\" + \"dn7_0_0_20161219201514284.jpg\", denoise_img)"
   ]
  },
  {
   "cell_type": "code",
   "execution_count": 62,
   "id": "fa07f660",
   "metadata": {
    "ExecuteTime": {
     "end_time": "2023-04-17T14:08:51.735977Z",
     "start_time": "2023-04-17T14:08:51.721424Z"
    }
   },
   "outputs": [],
   "source": [
    "image = cv2.imread(\"superres-images/dn7_0_0_20161219201514284.jpg\")\n",
    "image = cv2.resize(image,(198,198))"
   ]
  },
  {
   "cell_type": "code",
   "execution_count": 63,
   "id": "6bbc2224",
   "metadata": {
    "ExecuteTime": {
     "end_time": "2023-04-17T14:08:52.606179Z",
     "start_time": "2023-04-17T14:08:52.590574Z"
    }
   },
   "outputs": [
    {
     "data": {
      "text/plain": [
       "True"
      ]
     },
     "execution_count": 63,
     "metadata": {},
     "output_type": "execute_result"
    }
   ],
   "source": [
    "kernel = np.array([[-3,-1,-1], [-1,7,-1], [-1,-1,5]])\n",
    "kernel = 1/3*kernel\n",
    "sharp_img = cv2.filter2D(image, -1, kernel)\n",
    "cv2.imwrite(\"superres-images/\" + \"sharp7_0_0_20161219201514284.jpg\", sharp_img)"
   ]
  },
  {
   "cell_type": "code",
   "execution_count": 64,
   "id": "8ab8670a",
   "metadata": {
    "ExecuteTime": {
     "end_time": "2023-04-17T14:09:41.416242Z",
     "start_time": "2023-04-17T14:09:41.413240Z"
    }
   },
   "outputs": [],
   "source": [
    "image = cv2.imread(\"superres-images/sharp7_0_0_20161219201514284.jpg\",0)"
   ]
  },
  {
   "cell_type": "code",
   "execution_count": 65,
   "id": "23bbcbd0",
   "metadata": {
    "ExecuteTime": {
     "end_time": "2023-04-17T14:09:42.852242Z",
     "start_time": "2023-04-17T14:09:42.834237Z"
    }
   },
   "outputs": [
    {
     "data": {
      "text/plain": [
       "True"
      ]
     },
     "execution_count": 65,
     "metadata": {},
     "output_type": "execute_result"
    }
   ],
   "source": [
    "eq_img = cv2.equalizeHist(image)\n",
    "cv2.imwrite(\"superres-images/\" + \"eq7_0_0_20161219201514284.jpg\", eq_img)"
   ]
  },
  {
   "cell_type": "code",
   "execution_count": 8,
   "id": "c5ffe5f9",
   "metadata": {
    "ExecuteTime": {
     "end_time": "2023-04-21T13:19:20.953818Z",
     "start_time": "2023-04-21T13:19:09.456424Z"
    }
   },
   "outputs": [],
   "source": [
    "files = glob.glob(os.path.join(\"superres-images/\", \"*.jpg\"))\n",
    "fil = os.listdir(\"superres-images/\")\n",
    "for i in range(len(files)):\n",
    "    image = cv2.imread(files[i],0)\n",
    "    kernel = np.array([[-3,-1,-1], [-1,7,-1], [-1,-1,5]])\n",
    "    kernel = 1/3*kernel\n",
    "    sharp_img = cv2.filter2D(image, -1, kernel)\n",
    "    eq_img = cv2.equalizeHist(sharp_img)\n",
    "    cv2.imwrite(\"sharp/\" + fil[i], eq_img)"
   ]
  },
  {
   "cell_type": "code",
   "execution_count": null,
   "id": "38063b54",
   "metadata": {},
   "outputs": [],
   "source": []
  }
 ],
 "metadata": {
  "kernelspec": {
   "display_name": "Python 3 (ipykernel)",
   "language": "python",
   "name": "python3"
  },
  "language_info": {
   "codemirror_mode": {
    "name": "ipython",
    "version": 3
   },
   "file_extension": ".py",
   "mimetype": "text/x-python",
   "name": "python",
   "nbconvert_exporter": "python",
   "pygments_lexer": "ipython3",
   "version": "3.9.13"
  },
  "toc": {
   "base_numbering": 1,
   "nav_menu": {},
   "number_sections": true,
   "sideBar": true,
   "skip_h1_title": false,
   "title_cell": "Table of Contents",
   "title_sidebar": "Contents",
   "toc_cell": false,
   "toc_position": {},
   "toc_section_display": true,
   "toc_window_display": false
  },
  "varInspector": {
   "cols": {
    "lenName": 16,
    "lenType": 16,
    "lenVar": 40
   },
   "kernels_config": {
    "python": {
     "delete_cmd_postfix": "",
     "delete_cmd_prefix": "del ",
     "library": "var_list.py",
     "varRefreshCmd": "print(var_dic_list())"
    },
    "r": {
     "delete_cmd_postfix": ") ",
     "delete_cmd_prefix": "rm(",
     "library": "var_list.r",
     "varRefreshCmd": "cat(var_dic_list()) "
    }
   },
   "types_to_exclude": [
    "module",
    "function",
    "builtin_function_or_method",
    "instance",
    "_Feature"
   ],
   "window_display": false
  }
 },
 "nbformat": 4,
 "nbformat_minor": 5
}
