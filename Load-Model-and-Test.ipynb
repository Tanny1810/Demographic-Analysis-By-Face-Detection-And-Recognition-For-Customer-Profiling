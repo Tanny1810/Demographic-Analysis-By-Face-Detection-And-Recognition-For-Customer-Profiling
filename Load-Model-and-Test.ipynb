{
 "cells": [
  {
   "cell_type": "markdown",
   "id": "93deae0a",
   "metadata": {},
   "source": [
    "## Load Model For Testing"
   ]
  },
  {
   "cell_type": "code",
   "execution_count": 8,
   "id": "d6364341",
   "metadata": {
    "ExecuteTime": {
     "end_time": "2023-02-06T16:25:28.605112Z",
     "start_time": "2023-02-06T16:25:28.582294Z"
    },
    "scrolled": true
   },
   "outputs": [
    {
     "data": {
      "text/plain": [
       "({0: 'male', 1: 'female'},\n",
       " {'male': 0, 'female': 1},\n",
       " {0: 'white', 1: 'black', 2: 'asian', 3: 'indian', 4: 'others'},\n",
       " {'white': 0, 'black': 1, 'asian': 2, 'indian': 3, 'others': 4})"
      ]
     },
     "execution_count": 8,
     "metadata": {},
     "output_type": "execute_result"
    }
   ],
   "source": [
    "Gender = {0: 'male', 1: 'female'}\n",
    "Gender_map = dict((g, i) for i, g in Gender.items())\n",
    "Race = {0: 'white', 1: 'black', 2: 'asian', 3: 'indian', 4: 'others'}\n",
    "Race_map = dict((r, i) for i, r in Race.items())\n",
    "h_img, w_img= 198, 198\n",
    "\n",
    "Gender, Gender_map, Race, Race_map"
   ]
  },
  {
   "cell_type": "code",
   "execution_count": 2,
   "id": "8ed64eb9",
   "metadata": {
    "ExecuteTime": {
     "end_time": "2023-02-06T16:24:25.513577Z",
     "start_time": "2023-02-06T16:24:19.180155Z"
    }
   },
   "outputs": [
    {
     "name": "stdout",
     "output_type": "stream",
     "text": [
      "Model: \"model_2\"\n",
      "__________________________________________________________________________________________________\n",
      " Layer (type)                   Output Shape         Param #     Connected to                     \n",
      "==================================================================================================\n",
      " input_3 (InputLayer)           [(None, 198, 198, 3  0           []                               \n",
      "                                )]                                                                \n",
      "                                                                                                  \n",
      " conv2d_8 (Conv2D)              (None, 196, 196, 32  896         ['input_3[0][0]']                \n",
      "                                )                                                                 \n",
      "                                                                                                  \n",
      " batch_normalization_8 (BatchNo  (None, 196, 196, 32  128        ['conv2d_8[0][0]']               \n",
      " rmalization)                   )                                                                 \n",
      "                                                                                                  \n",
      " max_pooling2d_8 (MaxPooling2D)  (None, 98, 98, 32)  0           ['batch_normalization_8[0][0]']  \n",
      "                                                                                                  \n",
      " conv2d_9 (Conv2D)              (None, 96, 96, 64)   18496       ['max_pooling2d_8[0][0]']        \n",
      "                                                                                                  \n",
      " batch_normalization_9 (BatchNo  (None, 96, 96, 64)  256         ['conv2d_9[0][0]']               \n",
      " rmalization)                                                                                     \n",
      "                                                                                                  \n",
      " max_pooling2d_9 (MaxPooling2D)  (None, 48, 48, 64)  0           ['batch_normalization_9[0][0]']  \n",
      "                                                                                                  \n",
      " conv2d_10 (Conv2D)             (None, 46, 46, 96)   55392       ['max_pooling2d_9[0][0]']        \n",
      "                                                                                                  \n",
      " batch_normalization_10 (BatchN  (None, 46, 46, 96)  384         ['conv2d_10[0][0]']              \n",
      " ormalization)                                                                                    \n",
      "                                                                                                  \n",
      " max_pooling2d_10 (MaxPooling2D  (None, 23, 23, 96)  0           ['batch_normalization_10[0][0]'] \n",
      " )                                                                                                \n",
      "                                                                                                  \n",
      " conv2d_11 (Conv2D)             (None, 21, 21, 128)  110720      ['max_pooling2d_10[0][0]']       \n",
      "                                                                                                  \n",
      " batch_normalization_11 (BatchN  (None, 21, 21, 128)  512        ['conv2d_11[0][0]']              \n",
      " ormalization)                                                                                    \n",
      "                                                                                                  \n",
      " max_pooling2d_11 (MaxPooling2D  (None, 10, 10, 128)  0          ['batch_normalization_11[0][0]'] \n",
      " )                                                                                                \n",
      "                                                                                                  \n",
      " global_max_pooling2d_2 (Global  (None, 128)         0           ['max_pooling2d_11[0][0]']       \n",
      " MaxPooling2D)                                                                                    \n",
      "                                                                                                  \n",
      " dense_6 (Dense)                (None, 128)          16512       ['global_max_pooling2d_2[0][0]'] \n",
      "                                                                                                  \n",
      " dense_7 (Dense)                (None, 128)          16512       ['global_max_pooling2d_2[0][0]'] \n",
      "                                                                                                  \n",
      " dense_8 (Dense)                (None, 128)          16512       ['global_max_pooling2d_2[0][0]'] \n",
      "                                                                                                  \n",
      " age-output (Dense)             (None, 1)            129         ['dense_6[0][0]']                \n",
      "                                                                                                  \n",
      " race-output (Dense)            (None, 5)            645         ['dense_7[0][0]']                \n",
      "                                                                                                  \n",
      " gender-output (Dense)          (None, 2)            258         ['dense_8[0][0]']                \n",
      "                                                                                                  \n",
      "==================================================================================================\n",
      "Total params: 237,352\n",
      "Trainable params: 236,712\n",
      "Non-trainable params: 640\n",
      "__________________________________________________________________________________________________\n"
     ]
    }
   ],
   "source": [
    "# load model\n",
    "from tensorflow.keras.models import load_model\n",
    "\n",
    "model = load_model('model_1.h5')\n",
    "model.summary()"
   ]
  },
  {
   "cell_type": "code",
   "execution_count": 9,
   "id": "5df9ea0a",
   "metadata": {
    "ExecuteTime": {
     "end_time": "2023-02-06T16:25:31.202728Z",
     "start_time": "2023-02-06T16:25:31.060978Z"
    }
   },
   "outputs": [
    {
     "name": "stdout",
     "output_type": "stream",
     "text": [
      "1/1 [==============================] - 0s 98ms/step\n",
      "[[0.31195015]] [[0.27836 0.72164]] [[0.843938   0.0039055  0.05692612 0.03010968 0.06512063]]\n",
      "[[26.515762]] 0 1\n"
     ]
    }
   ],
   "source": [
    "# load Test Image & Eval\n",
    "import cv2\n",
    "import numpy as np\n",
    "\n",
    "image = cv2.imread('45_1_1_20170112231623286.jpg')\n",
    "img = cv2.resize(image, (198, 198))\n",
    "img = np.expand_dims(img, axis=0) / 255.0\n",
    "\n",
    "predictions = model.predict(img)\n",
    "age_pred, race_pred, gender_pred = predictions\n",
    "\n",
    "age_class = np.round(age_pred[0, 0])\n",
    "race_class = np.argmax(race_pred[0])\n",
    "gender_class = np.argmax(gender_pred[0])\n",
    "\n",
    "print(age_pred, gender_pred, race_pred)\n",
    "print(age_pred*85, race_class, gender_class)\n",
    "# age = age_class\n",
    "# race = Race_map[race_class]\n",
    "# gender = Gender_map[gender_class]\n",
    "\n",
    "# print(age, race, gender)"
   ]
  },
  {
   "cell_type": "code",
   "execution_count": 10,
   "id": "7ac0a3bc",
   "metadata": {
    "ExecuteTime": {
     "end_time": "2023-02-06T16:25:39.927000Z",
     "start_time": "2023-02-06T16:25:31.906986Z"
    }
   },
   "outputs": [
    {
     "name": "stdout",
     "output_type": "stream",
     "text": [
      "1/1 [==============================] - 0s 97ms/step\n",
      "[[1.]] [[1. 0.]] [[1.0000000e+00 0.0000000e+00 2.4353976e-15 0.0000000e+00 0.0000000e+00]]\n",
      "Age: 1\n",
      "Gender: Male\n",
      "Race: White\n"
     ]
    }
   ],
   "source": [
    "from tensorflow.keras.preprocessing import image\n",
    "\n",
    "img = image.load_img('45_1_1_20170112231623286.jpg', target_size=(198, 198))\n",
    "# img = image.img_to_array(img)\n",
    "img = np.expand_dims(img, axis=0)\n",
    "\n",
    "# Predict the output\n",
    "output = model.predict(img)\n",
    "age_pred, race_pred, gender_pred = output\n",
    "\n",
    "print(age_pred, gender_pred, race_pred)\n",
    "# Convert the predictions to the class labels\n",
    "age = int(age_pred)\n",
    "\n",
    "gender_labels = ['Male', 'Female']\n",
    "gender = gender_labels[np.argmax(gender_pred[0])]\n",
    "\n",
    "race_labels = ['White', 'Black', 'Asian', 'Indian', 'Others']\n",
    "race = race_labels[np.argmax(race_pred[0])]\n",
    "\n",
    "# Print the results\n",
    "print(f'Age: {age}')\n",
    "print(f'Gender: {gender}')\n",
    "print(f'Race: {race}')\n",
    "\n",
    "# print(age_pred*85, race_class, gender_class)\n",
    "cv2.imshow(\"Test Image\", img[0])\n",
    "cv2.waitKey(0)\n",
    "cv2.destroyAllWindows()\n"
   ]
  },
  {
   "cell_type": "code",
   "execution_count": 18,
   "id": "443b975c",
   "metadata": {
    "ExecuteTime": {
     "end_time": "2023-02-06T16:33:16.641837Z",
     "start_time": "2023-02-06T16:33:16.280261Z"
    }
   },
   "outputs": [
    {
     "name": "stdout",
     "output_type": "stream",
     "text": [
      "1/1 [==============================] - 0s 97ms/step\n",
      "Age: 38.423556089401245\n",
      "Race: Black\n",
      "Gender: Male\n"
     ]
    }
   ],
   "source": [
    "from tensorflow.keras.models import load_model\n",
    "def preprocess_image(img_path):\n",
    "    # Load the image\n",
    "    img = image.load_img(img_path, target_size=(h_img, w_img))\n",
    "    \n",
    "    # Convert the image to numpy array\n",
    "    img_array = image.img_to_array(img)\n",
    "    \n",
    "    # Normalize the image\n",
    "    img_array = img_array / 255.0\n",
    "    \n",
    "    # Expand the dimensions of the image\n",
    "    img_array = np.expand_dims(img_array, axis=0)\n",
    "    \n",
    "    return img_array\n",
    "\n",
    "# Load the model\n",
    "model = load_model(\"model_1.h5\")\n",
    "\n",
    "# Preprocess the input image\n",
    "img_array = preprocess_image(\"img.jpg\")\n",
    "\n",
    "# Make predictions\n",
    "preds = model.predict(img_array)\n",
    "\n",
    "# Extract predictions\n",
    "age = preds[0][0][0]\n",
    "\n",
    "race_labels = ['White', 'Black', 'Asian', 'Indian', 'Others']\n",
    "race = race_labels[np.argmax(preds[1][0])]\n",
    "\n",
    "gender_labels = ['Male', 'Female']\n",
    "gender = gender_labels[np.argmax(preds[2][0])]\n",
    "\n",
    "# Print the age, race and gender\n",
    "print(\"Age:\", age*75)\n",
    "print(\"Race:\", race)\n",
    "print(\"Gender:\", gender)"
   ]
  },
  {
   "cell_type": "code",
   "execution_count": null,
   "id": "9bf0aca4",
   "metadata": {},
   "outputs": [],
   "source": []
  }
 ],
 "metadata": {
  "kernelspec": {
   "display_name": "Python 3 (ipykernel)",
   "language": "python",
   "name": "python3"
  },
  "language_info": {
   "codemirror_mode": {
    "name": "ipython",
    "version": 3
   },
   "file_extension": ".py",
   "mimetype": "text/x-python",
   "name": "python",
   "nbconvert_exporter": "python",
   "pygments_lexer": "ipython3",
   "version": "3.9.13"
  },
  "toc": {
   "base_numbering": 1,
   "nav_menu": {},
   "number_sections": true,
   "sideBar": true,
   "skip_h1_title": false,
   "title_cell": "Table of Contents",
   "title_sidebar": "Contents",
   "toc_cell": false,
   "toc_position": {},
   "toc_section_display": true,
   "toc_window_display": false
  },
  "varInspector": {
   "cols": {
    "lenName": 16,
    "lenType": 16,
    "lenVar": 40
   },
   "kernels_config": {
    "python": {
     "delete_cmd_postfix": "",
     "delete_cmd_prefix": "del ",
     "library": "var_list.py",
     "varRefreshCmd": "print(var_dic_list())"
    },
    "r": {
     "delete_cmd_postfix": ") ",
     "delete_cmd_prefix": "rm(",
     "library": "var_list.r",
     "varRefreshCmd": "cat(var_dic_list()) "
    }
   },
   "types_to_exclude": [
    "module",
    "function",
    "builtin_function_or_method",
    "instance",
    "_Feature"
   ],
   "window_display": false
  }
 },
 "nbformat": 4,
 "nbformat_minor": 5
}
